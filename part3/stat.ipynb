{
 "cells": [
  {
   "cell_type": "code",
   "execution_count": 1,
   "metadata": {},
   "outputs": [],
   "source": [
    "import scipy.stats\n",
    "import pandas as pd\n",
    "import numpy as np"
   ]
  },
  {
   "cell_type": "code",
   "execution_count": 2,
   "metadata": {},
   "outputs": [],
   "source": [
    "df = pd.read_pickle(\"accidents.pkl.gz\")\n",
    "df_filtered = df.loc[df[\"p36\"].isin([0,1]),[\"p13a\", \"p36\"]]"
   ]
  },
  {
   "cell_type": "code",
   "execution_count": 3,
   "metadata": {},
   "outputs": [
    {
     "name": "stdout",
     "output_type": "stream",
     "text": [
      "fatal      False  True\n",
      "road_type             \n",
      "0          24293   166\n",
      "1          78618   911\n"
     ]
    }
   ],
   "source": [
    "df_hyp1 = pd.DataFrame({\n",
    "    'road_type': df_filtered['p36'],\n",
    "    'fatal': df_filtered['p13a']>0\n",
    "}).dropna()\n",
    "ct = pd.crosstab(df_hyp1[\"road_type\"], df_hyp1[\"fatal\"])\n",
    "print(ct)"
   ]
  },
  {
   "cell_type": "code",
   "execution_count": 4,
   "metadata": {},
   "outputs": [
    {
     "name": "stdout",
     "output_type": "stream",
     "text": [
      "Chi: 39.314921530329016\n",
      "P: 3.6067450279444316e-10\n",
      "Expected: [[24205.67901104   253.32098896]\n",
      " [78705.32098896   823.67901104]]\n"
     ]
    }
   ],
   "source": [
    "chi,p,degrees,expected = scipy.stats.chi2_contingency(ct)\n",
    "print('Chi:', chi)\n",
    "print('P:', p)\n",
    "print('Expected:', expected)"
   ]
  },
  {
   "cell_type": "markdown",
   "metadata": {},
   "source": [
    "Hodnota korelačního koeficientu je menší než 0.05, korelace mezi typem silnice (pouze 1. třídy a dálnice) a fatálními nehodami tedy existuje. Nehody na silnicích 1. třídy byly fatální častěji, než je očekáváno (dle hodnot expected a reálných hodnot)"
   ]
  },
  {
   "cell_type": "code",
   "execution_count": 32,
   "metadata": {},
   "outputs": [
    {
     "name": "stdout",
     "output_type": "stream",
     "text": [
      "Ttest_indResult(statistic=-23.391701716453692, pvalue=9.24412736332601e-121)\n"
     ]
    }
   ],
   "source": [
    "df_skoda = df[[\"p45a\", \"p53\"]].dropna()\n",
    "skoda = df.loc[df[\"p45a\"]==39]\n",
    "audi = df.loc[df[\"p45a\"]==2]\n",
    "result = scipy.stats.ttest_ind(skoda[\"p53\"],audi[\"p53\"])\n",
    "print(result)\n",
    "\n",
    "\n"
   ]
  },
  {
   "cell_type": "markdown",
   "metadata": {},
   "source": []
  }
 ],
 "metadata": {
  "interpreter": {
   "hash": "31f2aee4e71d21fbe5cf8b01ff0e069b9275f58929596ceb00d14d90e3e16cd6"
  },
  "kernelspec": {
   "display_name": "Python 3.8.5 64-bit",
   "language": "python",
   "name": "python3"
  },
  "language_info": {
   "codemirror_mode": {
    "name": "ipython",
    "version": 3
   },
   "file_extension": ".py",
   "mimetype": "text/x-python",
   "name": "python",
   "nbconvert_exporter": "python",
   "pygments_lexer": "ipython3",
   "version": "3.8.5"
  },
  "orig_nbformat": 4
 },
 "nbformat": 4,
 "nbformat_minor": 2
}

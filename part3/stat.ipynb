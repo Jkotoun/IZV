{
 "cells": [
  {
   "cell_type": "code",
   "execution_count": 1,
   "metadata": {},
   "outputs": [],
   "source": [
    "import scipy.stats\n",
    "import pandas as pd\n",
    "import numpy as np"
   ]
  },
  {
   "cell_type": "code",
   "execution_count": null,
   "metadata": {},
   "outputs": [],
   "source": [
    "df = pd.read_pickle(\"accidents.pkl.gz\")"
   ]
  },
  {
   "cell_type": "markdown",
   "metadata": {},
   "source": [
    "# Hypotéza 1\n",
    "#### Na silnicích první třídy se při nehodách umíralo se stejnou pravděpodobností jako dálnicích.\n",
    "Z původního dataframu jsou vyfiltrovány nehody, které se staly na silnicích 1. třídy a na dálnicích. Jsou vybrány sloupce s typem silnice a počtem úmrtí v nehodě\n",
    "Je vytvořen nový dataframe s 1. sloupcem určujícím typ silnice a 2. sloupcem, který určuje, zda se jednalo o fatální nehodu - tedy počet úmrtí byl alespoň 1.\n",
    "Poté je vytvořena kontingenční tabulka, která určuje počet fatálních a nefatálních nehod na jednotlivých typech silnic. "
   ]
  },
  {
   "cell_type": "code",
   "execution_count": 3,
   "metadata": {},
   "outputs": [
    {
     "name": "stdout",
     "output_type": "stream",
     "text": [
      "fatal      False  True\n",
      "road_type             \n",
      "0          24293   166\n",
      "1          78618   911\n"
     ]
    }
   ],
   "source": [
    "df_filtered = df.loc[df[\"p36\"].isin([0,1]),[\"p13a\", \"p36\"]]\n",
    "df_hyp1 = pd.DataFrame({\n",
    "    'road_type': df_filtered['p36'],\n",
    "    'fatal': df_filtered['p13a']>0\n",
    "}).dropna()\n",
    "ct = pd.crosstab(df_hyp1[\"road_type\"], df_hyp1[\"fatal\"])\n",
    "print(ct)"
   ]
  },
  {
   "cell_type": "markdown",
   "metadata": {},
   "source": [
    "Pomocí chí-kvadrát testu je určena korelace a očekávané hodnoty za předpokladu platnosti hypotézy H0 - tedy neexistující korelace mezi typem silnice a počtem fatálních nehod"
   ]
  },
  {
   "cell_type": "code",
   "execution_count": 4,
   "metadata": {},
   "outputs": [
    {
     "name": "stdout",
     "output_type": "stream",
     "text": [
      "Chi: 39.314921530329016\n",
      "P: 3.6067450279444316e-10\n",
      "Expected: [[24205.67901104   253.32098896]\n",
      " [78705.32098896   823.67901104]]\n"
     ]
    }
   ],
   "source": [
    "chi,p,degrees,expected = scipy.stats.chi2_contingency(ct)\n",
    "print('P:', p)\n",
    "print('Expected:', expected)"
   ]
  },
  {
   "cell_type": "markdown",
   "metadata": {},
   "source": [
    "Hodnota korelačního koeficientu je menší než 0.05, korelace mezi typem silnice (pouze 1. třídy a dálnice) a fatálními nehodami tedy existuje se spolehlivostí 95%. Nehody na silnicích 1. třídy byly fatální častěji, než je očekáváno (dle hodnot expected a reálných hodnot)"
   ]
  },
  {
   "cell_type": "markdown",
   "metadata": {},
   "source": [
    "# Hypotéza 2\n",
    "#### Při nehodách vozidel značky Škoda je škoda na vozidle nižší než při nehodách vozidel Audi.\n"
   ]
  },
  {
   "cell_type": "code",
   "execution_count": 5,
   "metadata": {},
   "outputs": [
    {
     "name": "stdout",
     "output_type": "stream",
     "text": [
      "Ttest_indResult(statistic=-39.12749433594028, pvalue=0.0)\n"
     ]
    }
   ],
   "source": [
    "df_skoda = df[[\"p45a\", \"p53\"]].dropna()\n",
    "skoda = df_skoda.loc[df_skoda[\"p45a\"]==39]\n",
    "audi = df_skoda.loc[df_skoda[\"p45a\"]==2]\n",
    "result = scipy.stats.ttest_ind(skoda[\"p53\"],audi[\"p53\"])\n",
    "print(result)"
   ]
  },
  {
   "cell_type": "markdown",
   "metadata": {},
   "source": [
    "Při nehodách je škoda na vozidlech značky Škoda nižší než na vozidlech značky Audi (hodnota T je záporná). Hodnota p je tak malá, že je interpretována jako 0.0, je tedy na požadované hladině významnosti 0.05"
   ]
  },
  {
   "cell_type": "markdown",
   "metadata": {},
   "source": []
  }
 ],
 "metadata": {
  "interpreter": {
   "hash": "31f2aee4e71d21fbe5cf8b01ff0e069b9275f58929596ceb00d14d90e3e16cd6"
  },
  "kernelspec": {
   "display_name": "Python 3.8.5 64-bit",
   "language": "python",
   "name": "python3"
  },
  "language_info": {
   "codemirror_mode": {
    "name": "ipython",
    "version": 3
   },
   "file_extension": ".py",
   "mimetype": "text/x-python",
   "name": "python",
   "nbconvert_exporter": "python",
   "pygments_lexer": "ipython3",
   "version": "3.8.5"
  },
  "orig_nbformat": 4
 },
 "nbformat": 4,
 "nbformat_minor": 2
}
